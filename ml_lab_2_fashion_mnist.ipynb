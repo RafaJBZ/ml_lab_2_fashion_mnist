{
 "cells": [
  {
   "cell_type": "markdown",
   "metadata": {},
   "source": [
    "Lab No. 2 – Fashion MNIST\n",
    "Write a program in Python to recognize \n",
    "Fashion items using the Fashion-MNIST Dataset"
   ]
  },
  {
   "cell_type": "markdown",
   "metadata": {},
   "source": []
  }
 ],
 "metadata": {
  "kernelspec": {
   "display_name": "Python 3.10.6 ('MLenv': venv)",
   "language": "python",
   "name": "python3"
  },
  "language_info": {
   "name": "python",
   "version": "3.10.6"
  },
  "orig_nbformat": 4,
  "vscode": {
   "interpreter": {
    "hash": "e36fd0807ec760c16581c7e32a9c57c563ea7c36b9fc08eea9ba6cd7681f1db3"
   }
  }
 },
 "nbformat": 4,
 "nbformat_minor": 2
}
